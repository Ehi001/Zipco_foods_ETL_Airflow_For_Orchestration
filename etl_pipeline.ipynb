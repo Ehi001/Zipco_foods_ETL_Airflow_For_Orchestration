{
 "cells": [
  {
   "cell_type": "code",
   "execution_count": 1,
   "metadata": {},
   "outputs": [],
   "source": [
    "# Import necessary libraries\n",
    "\n",
    "import pandas as pd\n",
    "from azure.storage.blob import BlobServiceClient\n",
    "from dotenv import load_dotenv\n",
    "import os\n"
   ]
  },
  {
   "cell_type": "code",
   "execution_count": 2,
   "metadata": {},
   "outputs": [
    {
     "name": "stdout",
     "output_type": "stream",
     "text": [
      "Data Extracted Successfully\n"
     ]
    }
   ],
   "source": [
    "# Data extraction\n",
    "\n",
    "try:\n",
    "    data = pd.read_csv(r'zipco_transaction.csv')\n",
    "    print('Data Extracted Successfully')\n",
    "except Exception as e:\n",
    "    print(f'An error occurred: {e}')\n"
   ]
  },
  {
   "cell_type": "code",
   "execution_count": 3,
   "metadata": {},
   "outputs": [
    {
     "data": {
      "text/html": [
       "<div>\n",
       "<style scoped>\n",
       "    .dataframe tbody tr th:only-of-type {\n",
       "        vertical-align: middle;\n",
       "    }\n",
       "\n",
       "    .dataframe tbody tr th {\n",
       "        vertical-align: top;\n",
       "    }\n",
       "\n",
       "    .dataframe thead th {\n",
       "        text-align: right;\n",
       "    }\n",
       "</style>\n",
       "<table border=\"1\" class=\"dataframe\">\n",
       "  <thead>\n",
       "    <tr style=\"text-align: right;\">\n",
       "      <th></th>\n",
       "      <th>Date</th>\n",
       "      <th>ProductName</th>\n",
       "      <th>Quantity</th>\n",
       "      <th>UnitPrice</th>\n",
       "      <th>StoreLocation</th>\n",
       "      <th>PaymentType</th>\n",
       "      <th>PromotionApplied</th>\n",
       "      <th>Weather</th>\n",
       "      <th>Temperature</th>\n",
       "      <th>StaffPerformanceRating</th>\n",
       "      <th>...</th>\n",
       "      <th>DeliveryTime_min</th>\n",
       "      <th>OrderType</th>\n",
       "      <th>CustomerName</th>\n",
       "      <th>CustomerAddress</th>\n",
       "      <th>Customer_PhoneNumber</th>\n",
       "      <th>CustomerEmail</th>\n",
       "      <th>Staff_Name</th>\n",
       "      <th>Staff_Email</th>\n",
       "      <th>DayOfWeek</th>\n",
       "      <th>TotalSales</th>\n",
       "    </tr>\n",
       "  </thead>\n",
       "  <tbody>\n",
       "    <tr>\n",
       "      <th>0</th>\n",
       "      <td>2023-01-01 00:00:00</td>\n",
       "      <td>Vanilla Cake</td>\n",
       "      <td>2</td>\n",
       "      <td>12.532304</td>\n",
       "      <td>South</td>\n",
       "      <td>Cash</td>\n",
       "      <td>True</td>\n",
       "      <td>Rainy</td>\n",
       "      <td>20.654914</td>\n",
       "      <td>Poor</td>\n",
       "      <td>...</td>\n",
       "      <td>30</td>\n",
       "      <td>In Store</td>\n",
       "      <td>William Adams</td>\n",
       "      <td>9851 David Green\\r\\nTonyaburgh, VA 02853</td>\n",
       "      <td>(916)427-7276x861</td>\n",
       "      <td>lisa00@example.net</td>\n",
       "      <td>John Bridges</td>\n",
       "      <td>pdavidson@example.com</td>\n",
       "      <td>Sunday</td>\n",
       "      <td>25.064608</td>\n",
       "    </tr>\n",
       "    <tr>\n",
       "      <th>1</th>\n",
       "      <td>2023-01-01 01:00:00</td>\n",
       "      <td>Red Velvet Cake</td>\n",
       "      <td>1</td>\n",
       "      <td>7.083070</td>\n",
       "      <td>South</td>\n",
       "      <td>Cash</td>\n",
       "      <td>False</td>\n",
       "      <td>Rainy</td>\n",
       "      <td>23.549497</td>\n",
       "      <td>Average</td>\n",
       "      <td>...</td>\n",
       "      <td>33</td>\n",
       "      <td>In Store</td>\n",
       "      <td>Anthony Wiggins</td>\n",
       "      <td>24682 Holly Stravenue\\r\\nMooreville, NH 13901</td>\n",
       "      <td>769.318.4373</td>\n",
       "      <td>michellefernandez@example.com</td>\n",
       "      <td>Sarah Bentley</td>\n",
       "      <td>ajohnson@example.net</td>\n",
       "      <td>Sunday</td>\n",
       "      <td>7.083070</td>\n",
       "    </tr>\n",
       "    <tr>\n",
       "      <th>2</th>\n",
       "      <td>2023-01-01 02:00:00</td>\n",
       "      <td>Chocolate Cake</td>\n",
       "      <td>5</td>\n",
       "      <td>6.736064</td>\n",
       "      <td>North</td>\n",
       "      <td>Cash</td>\n",
       "      <td>True</td>\n",
       "      <td>Rainy</td>\n",
       "      <td>NaN</td>\n",
       "      <td>Excellent</td>\n",
       "      <td>...</td>\n",
       "      <td>43</td>\n",
       "      <td>Phone Order</td>\n",
       "      <td>Ashley Duke</td>\n",
       "      <td>10184 Washington Trace Apt. 679\\r\\nEast Brandi...</td>\n",
       "      <td>702.520.3286</td>\n",
       "      <td>cooperwilliam@example.com</td>\n",
       "      <td>Connie Cervantes</td>\n",
       "      <td>michele29@example.net</td>\n",
       "      <td>Sunday</td>\n",
       "      <td>33.680321</td>\n",
       "    </tr>\n",
       "    <tr>\n",
       "      <th>3</th>\n",
       "      <td>2023-01-01 03:00:00</td>\n",
       "      <td>Carrot Cake</td>\n",
       "      <td>2</td>\n",
       "      <td>7.314823</td>\n",
       "      <td>North</td>\n",
       "      <td>Cash</td>\n",
       "      <td>False</td>\n",
       "      <td>Cloudy</td>\n",
       "      <td>20.137483</td>\n",
       "      <td>Poor</td>\n",
       "      <td>...</td>\n",
       "      <td>32</td>\n",
       "      <td>Online Order</td>\n",
       "      <td>Brandon Taylor</td>\n",
       "      <td>87194 Jeff Rue\\r\\nMitchellbury, CA 50463</td>\n",
       "      <td>622-527-9530</td>\n",
       "      <td>fsilva@example.net</td>\n",
       "      <td>Jessica Stewart</td>\n",
       "      <td>xwilson@example.org</td>\n",
       "      <td>Sunday</td>\n",
       "      <td>14.629647</td>\n",
       "    </tr>\n",
       "    <tr>\n",
       "      <th>4</th>\n",
       "      <td>2023-01-01 04:00:00</td>\n",
       "      <td>Pizza Pepperoni</td>\n",
       "      <td>1</td>\n",
       "      <td>7.577727</td>\n",
       "      <td>East</td>\n",
       "      <td>Credit Card</td>\n",
       "      <td>True</td>\n",
       "      <td>Cloudy</td>\n",
       "      <td>23.020987</td>\n",
       "      <td>Good</td>\n",
       "      <td>...</td>\n",
       "      <td>58</td>\n",
       "      <td>In Store</td>\n",
       "      <td>Brittany Watkins</td>\n",
       "      <td>850 Julia Groves\\r\\nHartview, WI 95954</td>\n",
       "      <td>759-517-8359</td>\n",
       "      <td>petersjoseph@example.net</td>\n",
       "      <td>Cheryl Carpenter</td>\n",
       "      <td>christine96@example.org</td>\n",
       "      <td>Sunday</td>\n",
       "      <td>7.577727</td>\n",
       "    </tr>\n",
       "  </tbody>\n",
       "</table>\n",
       "<p>5 rows × 21 columns</p>\n",
       "</div>"
      ],
      "text/plain": [
       "                  Date      ProductName  Quantity  UnitPrice StoreLocation  \\\n",
       "0  2023-01-01 00:00:00     Vanilla Cake         2  12.532304         South   \n",
       "1  2023-01-01 01:00:00  Red Velvet Cake         1   7.083070         South   \n",
       "2  2023-01-01 02:00:00   Chocolate Cake         5   6.736064         North   \n",
       "3  2023-01-01 03:00:00      Carrot Cake         2   7.314823         North   \n",
       "4  2023-01-01 04:00:00  Pizza Pepperoni         1   7.577727          East   \n",
       "\n",
       "   PaymentType  PromotionApplied Weather  Temperature StaffPerformanceRating  \\\n",
       "0         Cash              True   Rainy    20.654914                   Poor   \n",
       "1         Cash             False   Rainy    23.549497                Average   \n",
       "2         Cash              True   Rainy          NaN              Excellent   \n",
       "3         Cash             False  Cloudy    20.137483                   Poor   \n",
       "4  Credit Card              True  Cloudy    23.020987                   Good   \n",
       "\n",
       "   ... DeliveryTime_min     OrderType      CustomerName  \\\n",
       "0  ...               30      In Store     William Adams   \n",
       "1  ...               33      In Store   Anthony Wiggins   \n",
       "2  ...               43   Phone Order       Ashley Duke   \n",
       "3  ...               32  Online Order    Brandon Taylor   \n",
       "4  ...               58      In Store  Brittany Watkins   \n",
       "\n",
       "                                     CustomerAddress Customer_PhoneNumber  \\\n",
       "0           9851 David Green\\r\\nTonyaburgh, VA 02853    (916)427-7276x861   \n",
       "1      24682 Holly Stravenue\\r\\nMooreville, NH 13901         769.318.4373   \n",
       "2  10184 Washington Trace Apt. 679\\r\\nEast Brandi...         702.520.3286   \n",
       "3           87194 Jeff Rue\\r\\nMitchellbury, CA 50463         622-527-9530   \n",
       "4             850 Julia Groves\\r\\nHartview, WI 95954         759-517-8359   \n",
       "\n",
       "                   CustomerEmail        Staff_Name              Staff_Email  \\\n",
       "0             lisa00@example.net      John Bridges    pdavidson@example.com   \n",
       "1  michellefernandez@example.com     Sarah Bentley     ajohnson@example.net   \n",
       "2      cooperwilliam@example.com  Connie Cervantes    michele29@example.net   \n",
       "3             fsilva@example.net   Jessica Stewart      xwilson@example.org   \n",
       "4       petersjoseph@example.net  Cheryl Carpenter  christine96@example.org   \n",
       "\n",
       "  DayOfWeek TotalSales  \n",
       "0    Sunday  25.064608  \n",
       "1    Sunday   7.083070  \n",
       "2    Sunday  33.680321  \n",
       "3    Sunday  14.629647  \n",
       "4    Sunday   7.577727  \n",
       "\n",
       "[5 rows x 21 columns]"
      ]
     },
     "execution_count": 3,
     "metadata": {},
     "output_type": "execute_result"
    }
   ],
   "source": [
    "data.head()"
   ]
  },
  {
   "cell_type": "code",
   "execution_count": 4,
   "metadata": {},
   "outputs": [
    {
     "name": "stdout",
     "output_type": "stream",
     "text": [
      "<class 'pandas.core.frame.DataFrame'>\n",
      "RangeIndex: 1005 entries, 0 to 1004\n",
      "Data columns (total 21 columns):\n",
      " #   Column                  Non-Null Count  Dtype  \n",
      "---  ------                  --------------  -----  \n",
      " 0   Date                    1005 non-null   object \n",
      " 1   ProductName             1005 non-null   object \n",
      " 2   Quantity                1005 non-null   int64  \n",
      " 3   UnitPrice               1005 non-null   float64\n",
      " 4   StoreLocation           1005 non-null   object \n",
      " 5   PaymentType             1005 non-null   object \n",
      " 6   PromotionApplied        1005 non-null   bool   \n",
      " 7   Weather                 1005 non-null   object \n",
      " 8   Temperature             904 non-null    float64\n",
      " 9   StaffPerformanceRating  1005 non-null   object \n",
      " 10  CustomerFeedback        905 non-null    object \n",
      " 11  DeliveryTime_min        1005 non-null   int64  \n",
      " 12  OrderType               1005 non-null   object \n",
      " 13  CustomerName            1005 non-null   object \n",
      " 14  CustomerAddress         1005 non-null   object \n",
      " 15  Customer_PhoneNumber    1005 non-null   object \n",
      " 16  CustomerEmail           904 non-null    object \n",
      " 17  Staff_Name              1005 non-null   object \n",
      " 18  Staff_Email             904 non-null    object \n",
      " 19  DayOfWeek               1005 non-null   object \n",
      " 20  TotalSales              1005 non-null   float64\n",
      "dtypes: bool(1), float64(3), int64(2), object(15)\n",
      "memory usage: 158.1+ KB\n"
     ]
    }
   ],
   "source": [
    "data.info()"
   ]
  },
  {
   "cell_type": "code",
   "execution_count": 5,
   "metadata": {},
   "outputs": [],
   "source": [
    "# Data Cleaning and Transformation\n",
    "# Remove Duplicates\n",
    "\n",
    "data.drop_duplicates(inplace = True)\n"
   ]
  },
  {
   "cell_type": "code",
   "execution_count": null,
   "metadata": {},
   "outputs": [],
   "source": [
    "# Handle missing numeric values by filling with the mean or median\n",
    "\n",
    "numeric_columns = data.select_dtypes(include = ['float64', 'int64']).columns\n",
    "for col in numeric_columns:\n",
    "    data.fillna({col : data[col].mean()}, inplace = True)"
   ]
  },
  {
   "cell_type": "code",
   "execution_count": null,
   "metadata": {},
   "outputs": [],
   "source": [
    "# Handle missing string values by filling with 'Unknown'\n",
    "\n",
    "string_columns = data.select_dtypes(include = ['object']).columns\n",
    "for col in string_columns:\n",
    "    data.fillna({col : 'Unknown'}, inplace = True)"
   ]
  },
  {
   "cell_type": "code",
   "execution_count": 32,
   "metadata": {},
   "outputs": [],
   "source": [
    "data['Date'] = pd.to_datetime(data['Date'])"
   ]
  },
  {
   "cell_type": "code",
   "execution_count": 33,
   "metadata": {},
   "outputs": [
    {
     "name": "stdout",
     "output_type": "stream",
     "text": [
      "<class 'pandas.core.frame.DataFrame'>\n",
      "Index: 1000 entries, 0 to 999\n",
      "Data columns (total 21 columns):\n",
      " #   Column                  Non-Null Count  Dtype         \n",
      "---  ------                  --------------  -----         \n",
      " 0   Date                    1000 non-null   datetime64[ns]\n",
      " 1   ProductName             1000 non-null   object        \n",
      " 2   Quantity                1000 non-null   int64         \n",
      " 3   UnitPrice               1000 non-null   float64       \n",
      " 4   StoreLocation           1000 non-null   object        \n",
      " 5   PaymentType             1000 non-null   object        \n",
      " 6   PromotionApplied        1000 non-null   bool          \n",
      " 7   Weather                 1000 non-null   object        \n",
      " 8   Temperature             1000 non-null   float64       \n",
      " 9   StaffPerformanceRating  1000 non-null   object        \n",
      " 10  CustomerFeedback        1000 non-null   object        \n",
      " 11  DeliveryTime_min        1000 non-null   int64         \n",
      " 12  OrderType               1000 non-null   object        \n",
      " 13  CustomerName            1000 non-null   object        \n",
      " 14  CustomerAddress         1000 non-null   object        \n",
      " 15  Customer_PhoneNumber    1000 non-null   object        \n",
      " 16  CustomerEmail           1000 non-null   object        \n",
      " 17  Staff_Name              1000 non-null   object        \n",
      " 18  Staff_Email             1000 non-null   object        \n",
      " 19  DayOfWeek               1000 non-null   object        \n",
      " 20  TotalSales              1000 non-null   float64       \n",
      "dtypes: bool(1), datetime64[ns](1), float64(3), int64(2), object(14)\n",
      "memory usage: 165.0+ KB\n"
     ]
    }
   ],
   "source": [
    "data.info()"
   ]
  },
  {
   "cell_type": "code",
   "execution_count": 19,
   "metadata": {},
   "outputs": [],
   "source": [
    "# Create the product table\n",
    "\n",
    "products = data[['ProductName']].copy().drop_duplicates().reset_index(drop = True)\n",
    "products.index.name = 'ProductID'\n",
    "\n",
    "products = products.reset_index()"
   ]
  },
  {
   "cell_type": "code",
   "execution_count": null,
   "metadata": {},
   "outputs": [
    {
     "data": {
      "text/plain": [
       "(9, 2)"
      ]
     },
     "execution_count": 21,
     "metadata": {},
     "output_type": "execute_result"
    }
   ],
   "source": [
    "products.head()"
   ]
  },
  {
   "cell_type": "code",
   "execution_count": null,
   "metadata": {},
   "outputs": [
    {
     "data": {
      "text/plain": [
       "(1000, 5)"
      ]
     },
     "execution_count": 23,
     "metadata": {},
     "output_type": "execute_result"
    }
   ],
   "source": [
    "# Create the customer table\n",
    "\n",
    "customers = data[['CustomerName', 'CustomerAddress', 'Customer_PhoneNumber', 'CustomerEmail']].copy().drop_duplicates().reset_index(drop = True)\n",
    "customers.index.name = 'CustomerID'\n",
    "\n",
    "customers = customers.reset_index()\n",
    "customers.head()\n"
   ]
  },
  {
   "cell_type": "code",
   "execution_count": null,
   "metadata": {},
   "outputs": [
    {
     "data": {
      "text/plain": [
       "(1000, 4)"
      ]
     },
     "execution_count": 24,
     "metadata": {},
     "output_type": "execute_result"
    }
   ],
   "source": [
    "# Create the staff table\n",
    "\n",
    "staff = data[['Staff_Name', 'Staff_Email', 'StaffPerformanceRating']].copy().drop_duplicates().reset_index(drop = True)\n",
    "staff.index.name = 'StaffID'\n",
    "\n",
    "staff = staff.reset_index()\n",
    "staff.head()"
   ]
  },
  {
   "cell_type": "code",
   "execution_count": 27,
   "metadata": {},
   "outputs": [
    {
     "data": {
      "text/plain": [
       "Index(['Date', 'ProductName', 'Quantity', 'UnitPrice', 'StoreLocation',\n",
       "       'PaymentType', 'PromotionApplied', 'Weather', 'Temperature',\n",
       "       'StaffPerformanceRating', 'CustomerFeedback', 'DeliveryTime_min',\n",
       "       'OrderType', 'CustomerName', 'CustomerAddress', 'Customer_PhoneNumber',\n",
       "       'CustomerEmail', 'Staff_Name', 'Staff_Email', 'DayOfWeek', 'TotalSales',\n",
       "       'ProductID', 'CustomerID', 'StaffID'],\n",
       "      dtype='object')"
      ]
     },
     "execution_count": 27,
     "metadata": {},
     "output_type": "execute_result"
    }
   ],
   "source": [
    "# Create Transactions table\n",
    "\n",
    "transactions = data.merge(products, on = ['ProductName'], how = 'left')\\\n",
    "    .merge(customers, on = ['CustomerName', 'CustomerAddress', 'Customer_PhoneNumber', 'CustomerEmail'], how = 'left')\\\n",
    "        .merge(staff, on = ['Staff_Name', 'Staff_Email', 'StaffPerformanceRating'], how = 'left')\n",
    "\n",
    "transactions.columns\n",
    "\n"
   ]
  },
  {
   "cell_type": "code",
   "execution_count": 28,
   "metadata": {},
   "outputs": [
    {
     "data": {
      "text/html": [
       "<div>\n",
       "<style scoped>\n",
       "    .dataframe tbody tr th:only-of-type {\n",
       "        vertical-align: middle;\n",
       "    }\n",
       "\n",
       "    .dataframe tbody tr th {\n",
       "        vertical-align: top;\n",
       "    }\n",
       "\n",
       "    .dataframe thead th {\n",
       "        text-align: right;\n",
       "    }\n",
       "</style>\n",
       "<table border=\"1\" class=\"dataframe\">\n",
       "  <thead>\n",
       "    <tr style=\"text-align: right;\">\n",
       "      <th></th>\n",
       "      <th>Transaction_ID</th>\n",
       "      <th>Date</th>\n",
       "      <th>ProductID</th>\n",
       "      <th>UnitPrice</th>\n",
       "      <th>Quantity</th>\n",
       "      <th>StoreLocation</th>\n",
       "      <th>PaymentType</th>\n",
       "      <th>PromotionApplied</th>\n",
       "      <th>Weather</th>\n",
       "      <th>Temperature</th>\n",
       "      <th>CustomerFeedback</th>\n",
       "      <th>DeliveryTime_min</th>\n",
       "      <th>OrderType</th>\n",
       "      <th>CustomerID</th>\n",
       "      <th>StaffID</th>\n",
       "      <th>DayOfWeek</th>\n",
       "      <th>TotalSales</th>\n",
       "    </tr>\n",
       "  </thead>\n",
       "  <tbody>\n",
       "    <tr>\n",
       "      <th>0</th>\n",
       "      <td>0</td>\n",
       "      <td>2023-01-01 00:00:00</td>\n",
       "      <td>0</td>\n",
       "      <td>12.532304</td>\n",
       "      <td>2</td>\n",
       "      <td>South</td>\n",
       "      <td>Cash</td>\n",
       "      <td>True</td>\n",
       "      <td>Rainy</td>\n",
       "      <td>20.654914</td>\n",
       "      <td>Neutral</td>\n",
       "      <td>30</td>\n",
       "      <td>In Store</td>\n",
       "      <td>0</td>\n",
       "      <td>0</td>\n",
       "      <td>Sunday</td>\n",
       "      <td>25.064608</td>\n",
       "    </tr>\n",
       "    <tr>\n",
       "      <th>1</th>\n",
       "      <td>1</td>\n",
       "      <td>2023-01-01 01:00:00</td>\n",
       "      <td>1</td>\n",
       "      <td>7.083070</td>\n",
       "      <td>1</td>\n",
       "      <td>South</td>\n",
       "      <td>Cash</td>\n",
       "      <td>False</td>\n",
       "      <td>Rainy</td>\n",
       "      <td>23.549497</td>\n",
       "      <td>Positive</td>\n",
       "      <td>33</td>\n",
       "      <td>In Store</td>\n",
       "      <td>1</td>\n",
       "      <td>1</td>\n",
       "      <td>Sunday</td>\n",
       "      <td>7.083070</td>\n",
       "    </tr>\n",
       "    <tr>\n",
       "      <th>2</th>\n",
       "      <td>2</td>\n",
       "      <td>2023-01-01 02:00:00</td>\n",
       "      <td>2</td>\n",
       "      <td>6.736064</td>\n",
       "      <td>5</td>\n",
       "      <td>North</td>\n",
       "      <td>Cash</td>\n",
       "      <td>True</td>\n",
       "      <td>Rainy</td>\n",
       "      <td>27.154342</td>\n",
       "      <td>Unknown</td>\n",
       "      <td>43</td>\n",
       "      <td>Phone Order</td>\n",
       "      <td>2</td>\n",
       "      <td>2</td>\n",
       "      <td>Sunday</td>\n",
       "      <td>33.680321</td>\n",
       "    </tr>\n",
       "    <tr>\n",
       "      <th>3</th>\n",
       "      <td>3</td>\n",
       "      <td>2023-01-01 03:00:00</td>\n",
       "      <td>3</td>\n",
       "      <td>7.314823</td>\n",
       "      <td>2</td>\n",
       "      <td>North</td>\n",
       "      <td>Cash</td>\n",
       "      <td>False</td>\n",
       "      <td>Cloudy</td>\n",
       "      <td>20.137483</td>\n",
       "      <td>Positive</td>\n",
       "      <td>32</td>\n",
       "      <td>Online Order</td>\n",
       "      <td>3</td>\n",
       "      <td>3</td>\n",
       "      <td>Sunday</td>\n",
       "      <td>14.629647</td>\n",
       "    </tr>\n",
       "    <tr>\n",
       "      <th>4</th>\n",
       "      <td>4</td>\n",
       "      <td>2023-01-01 04:00:00</td>\n",
       "      <td>4</td>\n",
       "      <td>7.577727</td>\n",
       "      <td>1</td>\n",
       "      <td>East</td>\n",
       "      <td>Credit Card</td>\n",
       "      <td>True</td>\n",
       "      <td>Cloudy</td>\n",
       "      <td>23.020987</td>\n",
       "      <td>Neutral</td>\n",
       "      <td>58</td>\n",
       "      <td>In Store</td>\n",
       "      <td>4</td>\n",
       "      <td>4</td>\n",
       "      <td>Sunday</td>\n",
       "      <td>7.577727</td>\n",
       "    </tr>\n",
       "  </tbody>\n",
       "</table>\n",
       "</div>"
      ],
      "text/plain": [
       "   Transaction_ID                 Date  ProductID  UnitPrice  Quantity  \\\n",
       "0               0  2023-01-01 00:00:00          0  12.532304         2   \n",
       "1               1  2023-01-01 01:00:00          1   7.083070         1   \n",
       "2               2  2023-01-01 02:00:00          2   6.736064         5   \n",
       "3               3  2023-01-01 03:00:00          3   7.314823         2   \n",
       "4               4  2023-01-01 04:00:00          4   7.577727         1   \n",
       "\n",
       "  StoreLocation  PaymentType  PromotionApplied Weather  Temperature  \\\n",
       "0         South         Cash              True   Rainy    20.654914   \n",
       "1         South         Cash             False   Rainy    23.549497   \n",
       "2         North         Cash              True   Rainy    27.154342   \n",
       "3         North         Cash             False  Cloudy    20.137483   \n",
       "4          East  Credit Card              True  Cloudy    23.020987   \n",
       "\n",
       "  CustomerFeedback  DeliveryTime_min     OrderType  CustomerID  StaffID  \\\n",
       "0          Neutral                30      In Store           0        0   \n",
       "1         Positive                33      In Store           1        1   \n",
       "2          Unknown                43   Phone Order           2        2   \n",
       "3         Positive                32  Online Order           3        3   \n",
       "4          Neutral                58      In Store           4        4   \n",
       "\n",
       "  DayOfWeek  TotalSales  \n",
       "0    Sunday   25.064608  \n",
       "1    Sunday    7.083070  \n",
       "2    Sunday   33.680321  \n",
       "3    Sunday   14.629647  \n",
       "4    Sunday    7.577727  "
      ]
     },
     "execution_count": 28,
     "metadata": {},
     "output_type": "execute_result"
    }
   ],
   "source": [
    "transactions = transactions[['Date', 'ProductID', 'UnitPrice', 'Quantity', 'StoreLocation',\n",
    "       'PaymentType', 'PromotionApplied', 'Weather', 'Temperature', 'CustomerFeedback', 'DeliveryTime_min',\n",
    "       'OrderType', 'CustomerID', 'StaffID', 'DayOfWeek', 'TotalSales']]\n",
    "\n",
    "transactions.index.name = 'Transaction_ID'\n",
    "transactions = transactions.reset_index()\n",
    "\n",
    "transactions.head()"
   ]
  },
  {
   "cell_type": "code",
   "execution_count": 29,
   "metadata": {},
   "outputs": [],
   "source": [
    "# convert transaction date column to datetime \n",
    "\n",
    "transactions['Date'] = pd.to_datetime(transactions['Date'])"
   ]
  },
  {
   "cell_type": "code",
   "execution_count": 31,
   "metadata": {},
   "outputs": [
    {
     "name": "stdout",
     "output_type": "stream",
     "text": [
      "<class 'pandas.core.frame.DataFrame'>\n",
      "RangeIndex: 1000 entries, 0 to 999\n",
      "Data columns (total 17 columns):\n",
      " #   Column            Non-Null Count  Dtype         \n",
      "---  ------            --------------  -----         \n",
      " 0   Transaction_ID    1000 non-null   int64         \n",
      " 1   Date              1000 non-null   datetime64[ns]\n",
      " 2   ProductID         1000 non-null   int64         \n",
      " 3   UnitPrice         1000 non-null   float64       \n",
      " 4   Quantity          1000 non-null   int64         \n",
      " 5   StoreLocation     1000 non-null   object        \n",
      " 6   PaymentType       1000 non-null   object        \n",
      " 7   PromotionApplied  1000 non-null   bool          \n",
      " 8   Weather           1000 non-null   object        \n",
      " 9   Temperature       1000 non-null   float64       \n",
      " 10  CustomerFeedback  1000 non-null   object        \n",
      " 11  DeliveryTime_min  1000 non-null   int64         \n",
      " 12  OrderType         1000 non-null   object        \n",
      " 13  CustomerID        1000 non-null   int64         \n",
      " 14  StaffID           1000 non-null   int64         \n",
      " 15  DayOfWeek         1000 non-null   object        \n",
      " 16  TotalSales        1000 non-null   float64       \n",
      "dtypes: bool(1), datetime64[ns](1), float64(3), int64(6), object(6)\n",
      "memory usage: 126.1+ KB\n"
     ]
    }
   ],
   "source": [
    "transactions.info()"
   ]
  },
  {
   "cell_type": "code",
   "execution_count": 35,
   "metadata": {},
   "outputs": [],
   "source": [
    "# save cleaned data as csv files\n",
    "\n",
    "data.to_csv('clean_data.csv', index = False)\n",
    "products.to_csv('products.csv', index = False)\n",
    "customers.to_csv('customers.csv', index = False)\n",
    "staff.to_csv('staff.csv', index = False)\n",
    "transactions.to_csv('transactions.csv', index = False)\n",
    "\n",
    "\n",
    "\n",
    "\n"
   ]
  },
  {
   "cell_type": "code",
   "execution_count": 36,
   "metadata": {},
   "outputs": [],
   "source": [
    "# Data Loading\n",
    "# Load environment variables from the .env files\n",
    "\n",
    "load_dotenv()\n",
    "\n",
    "connection_str = os.getenv('AZURE_CONNECTION_STRING_VALUE')\n",
    "container_name = os.getenv('CONTAINER_NAME')\n"
   ]
  },
  {
   "cell_type": "code",
   "execution_count": 39,
   "metadata": {},
   "outputs": [
    {
     "name": "stdout",
     "output_type": "stream",
     "text": [
      "rawdata/cleaned_zipco_transaction_data.csv loaded into Azure Blob Storage\n",
      "cleaneddata/productscsv loaded into Azure Blob Storage\n",
      "cleaneddata/customers.csv loaded into Azure Blob Storage\n",
      "cleaneddata/staff.csv loaded into Azure Blob Storage\n",
      "cleaneddata/transactions.csv loaded into Azure Blob Storage\n"
     ]
    }
   ],
   "source": [
    "# Create a BlobServiceClient object\n",
    "blob_service_object = BlobServiceClient.from_connection_string(connection_str)\n",
    "container_client = blob_service_object.get_container_client(container_name)\n",
    "\n",
    "#Load data to Azure Blob Storage\n",
    "files = [\n",
    "    (data, 'rawdata/cleaned_zipco_transaction_data.csv'),\n",
    "    (products, 'cleaneddata/productscsv'),\n",
    "    (customers, 'cleaneddata/customers.csv'),\n",
    "    (staff, 'cleaneddata/staff.csv'),\n",
    "    (transactions, 'cleaneddata/transactions.csv')\n",
    "\n",
    "]\n",
    "\n",
    "for file, blob_name in files:\n",
    "    blob_client = container_client.get_blob_client(blob_name)\n",
    "    output = file.to_csv(index = False)\n",
    "    blob_client.upload_blob(output, overwrite = True)\n",
    "    print(f'{blob_name} loaded into Azure Blob Storage')\n"
   ]
  },
  {
   "cell_type": "code",
   "execution_count": null,
   "metadata": {},
   "outputs": [],
   "source": []
  }
 ],
 "metadata": {
  "kernelspec": {
   "display_name": "Python 3",
   "language": "python",
   "name": "python3"
  },
  "language_info": {
   "codemirror_mode": {
    "name": "ipython",
    "version": 3
   },
   "file_extension": ".py",
   "mimetype": "text/x-python",
   "name": "python",
   "nbconvert_exporter": "python",
   "pygments_lexer": "ipython3",
   "version": "3.11.9"
  }
 },
 "nbformat": 4,
 "nbformat_minor": 2
}
